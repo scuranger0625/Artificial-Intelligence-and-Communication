{
  "nbformat": 4,
  "nbformat_minor": 0,
  "metadata": {
    "colab": {
      "provenance": []
    },
    "kernelspec": {
      "name": "python3",
      "display_name": "Python 3"
    },
    "language_info": {
      "name": "python"
    }
  },
  "cells": [
    {
      "cell_type": "code",
      "execution_count": null,
      "metadata": {
        "colab": {
          "base_uri": "https://localhost:8080/"
        },
        "id": "nu_xSK2AfBXw",
        "outputId": "58638da5-074c-4d69-9b12-8efa0bab02be"
      },
      "outputs": [
        {
          "output_type": "stream",
          "name": "stdout",
          "text": [
            "D\n"
          ]
        }
      ],
      "source": [
        "blocks = {}\n",
        "blocks[\"A\"] = {\"color\": \"red\", \"height\": 3}\n",
        "blocks[\"B\"] = {\"color\": \"green\", \"height\": 2}\n",
        "blocks[\"C\"] = {\"color\": \"green\", \"height\": 6}\n",
        "blocks[\"D\"] = {\"color\": \"red\", \"height\": 7}\n",
        "blocks[\"E\"] = {\"color\": \"red\", \"height\": 1}\n",
        "blocks[\"F\"] = {\"color\": \"green\", \"height\": 3}\n",
        "\n",
        "current = None\n",
        "for i in blocks:\n",
        "  if current is None:\n",
        "    current = i\n",
        "  else:\n",
        "    if blocks[current][\"height\"] < blocks[i][\"height\"]:\n",
        "      current = i\n",
        "\n",
        "\n",
        "print(current)"
      ]
    }
  ]
}